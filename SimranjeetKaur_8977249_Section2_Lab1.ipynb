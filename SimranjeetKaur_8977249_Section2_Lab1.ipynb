{
 "cells": [
  {
   "cell_type": "markdown",
   "metadata": {},
   "source": [
    "## Numpy Opreations\n",
    "\n"
   ]
  },
  {
   "cell_type": "markdown",
   "metadata": {},
   "source": [
    "1. Create an array that starts from the integer 1, ends at 20, incremented by 3."
   ]
  },
  {
   "cell_type": "code",
   "execution_count": 13,
   "metadata": {},
   "outputs": [
    {
     "name": "stdout",
     "output_type": "stream",
     "text": [
      "[ 1  4  7 10 13 16 19]\n"
     ]
    }
   ],
   "source": [
    "# Create an array that starts from the integer 1, ends at 20, incremented by 3.\n",
    "import numpy as np\n",
    "c = np.arange(1, 20, 3)\n",
    "print(c)"
   ]
  },
  {
   "cell_type": "markdown",
   "metadata": {},
   "source": [
    " Create a new array of shape 3 with random numbers between 0 and 1."
   ]
  },
  {
   "cell_type": "code",
   "execution_count": 14,
   "metadata": {},
   "outputs": [
    {
     "name": "stdout",
     "output_type": "stream",
     "text": [
      "[0.28023805 0.12001761 0.05856641]\n"
     ]
    }
   ],
   "source": [
    "#Create a new array of shape 3 with random numbers between 0 and 1.\n",
    "import numpy as np\n",
    "randarr = np.random.rand(3)\n",
    "print(randarr)"
   ]
  },
  {
   "cell_type": "markdown",
   "metadata": {},
   "source": [
    " Create a 2 D array [[10,20,45],[30,12,16],[42,17,56]] and perform the following operations:"
   ]
  },
  {
   "cell_type": "markdown",
   "metadata": {},
   "source": [
    "o Slice the 2D array to get the first two rows, slice the 2D array to get the last two rows"
   ]
  },
  {
   "cell_type": "code",
   "execution_count": 15,
   "metadata": {},
   "outputs": [
    {
     "name": "stdout",
     "output_type": "stream",
     "text": [
      "[[10 20 45]\n",
      " [30 12 16]\n",
      " [42 17 56]]\n",
      "\n",
      " [[10 20 45]\n",
      " [30 12 16]]\n",
      "\n",
      " [[30 12 16]\n",
      " [42 17 56]]\n"
     ]
    }
   ],
   "source": [
    "# Create a 2 dimensional array (2-D)\n",
    "import numpy as np\n",
    "twodimarr = np.array([[10, 20, 45], [30, 12, 16], [42, 17, 56]])\n",
    "print(twodimarr)\n",
    "\n",
    "# Slice the twoD array to get the first two rows\n",
    "slicedarr = twodimarr[0:2]\n",
    "print(\"\\n\", slicedarr)\n",
    "\n",
    "# Similarily, slice the twoD array to get the last two rows\n",
    "slicedtwoDrows = twodimarr[1:3]\n",
    "print(\"\\n\", slicedtwoDrows)"
   ]
  },
  {
   "cell_type": "markdown",
   "metadata": {},
   "source": [
    ". Create two 2x2 arrays and demonstrate how you can stack the elements vertically, horizontally, \n",
    "and split the arrays into smaller arrays."
   ]
  },
  {
   "cell_type": "code",
   "execution_count": null,
   "metadata": {},
   "outputs": [
    {
     "name": "stdout",
     "output_type": "stream",
     "text": [
      "a1:\n",
      "[[10 20 45]\n",
      " [30 12 16]\n",
      " [42 17 56]]\n",
      "a2:\n",
      "[[15 25 45]\n",
      " [35 11 26]\n",
      " [12 27 26]]\n",
      "\n",
      " [[10 20 45]\n",
      " [30 12 16]\n",
      " [42 17 56]\n",
      " [15 25 45]\n",
      " [35 11 26]\n",
      " [12 27 26]]\n",
      "\n",
      " [[10 20 45 15 25 45]\n",
      " [30 12 16 35 11 26]\n",
      " [42 17 56 12 27 26]]\n",
      "\n",
      " [array([[10, 20, 45]]), array([[30, 12, 16]]), array([[42, 17, 56]]), array([], shape=(0, 3), dtype=int32)]\n"
     ]
    }
   ],
   "source": [
    "import numpy as np\n",
    "a1 = np.array([[10, 20, 45], [30, 12, 16], [42, 17, 56]])\n",
    "a2 = np.array([[15, 25, 45], [35, 11, 26], [12, 27, 26]])\n",
    "print(f'a1:\\n{a1}')\n",
    "print(f'a2:\\n{a2}')\n",
    "\n",
    "# Stack the arrays vertically\n",
    "vertstack = np.vstack((a1, a2))\n",
    "print(\"\\n\", vertstack)\n",
    "\n",
    "# Stack the arrays horizontally\n",
    "horzstack = np.hstack((a1, a2))\n",
    "print(\"\\n\", horzstack)\n",
    "\n",
    "# Spilt  the arrays\n",
    "spiltarr = np.array_split(a1, 4)\n",
    "print(\"\\n\", spiltarr)"
   ]
  },
  {
   "cell_type": "markdown",
   "metadata": {},
   "source": [
    ". Create two matrices 𝑋 = ([[5, 7, 2],[4, 5, 6],[7, 4 ,2]]), 𝑌 = ([[4, 2],[6, 2],[4, 2]]),\n",
    "o Is it possible to multiply these matrices?\n",
    "o Demonstrate the case when it is not possible to.\n"
   ]
  },
  {
   "cell_type": "code",
   "execution_count": null,
   "metadata": {},
   "outputs": [
    {
     "name": "stdout",
     "output_type": "stream",
     "text": [
      "X:\n",
      "[[5 7 2]\n",
      " [4 5 6]\n",
      " [7 4 2]]\n",
      "Y:\n",
      "[[4 2]\n",
      " [6 2]\n",
      " [4 2]]\n",
      "\n",
      " [[70 28]\n",
      " [70 30]\n",
      " [60 26]]\n"
     ]
    }
   ],
   "source": [
    "import numpy as np\n",
    "X = np.array([[5, 7, 2], [4, 5,6], [7, 4, 2]])\n",
    "Y = np.array([[4, 2], [6, 2], [4, 2]])\n",
    "print(f'X:\\n{X}')\n",
    "print(f'Y:\\n{Y}')\n",
    "\n",
    "print(\"\\n\", np.matmul(X,Y))"
   ]
  },
  {
   "cell_type": "markdown",
   "metadata": {},
   "source": [
    "Create two arrays, 𝑥 = ([2, −1, −8]) 𝑦 = ([3, 1, −2]),\n",
    "o Find the Shape, Number of dimensions of vector x.\n",
    "o Reshape the vector x to a matrix of size (3,1) and determine the number of dimensions \n",
    "after reshaping y to a matrix of (3,1).\n"
   ]
  },
  {
   "cell_type": "code",
   "execution_count": null,
   "metadata": {},
   "outputs": [
    {
     "name": "stdout",
     "output_type": "stream",
     "text": [
      "x:\n",
      "[ 2 -1 -8]\n",
      "y:\n",
      "[ 3  1 -2]\n",
      "\n",
      " Array shape x:\n",
      " (3,)\n",
      "\n",
      " Array Dimensions x:\n",
      " 1\n",
      "\n",
      " Array Reshape x:\n",
      " [[ 2]\n",
      " [-1]\n",
      " [-8]]\n",
      "\n",
      " Array Reshape y:\n",
      " [[ 3]\n",
      " [ 1]\n",
      " [-2]]\n",
      "\n",
      " Array Dimensions y :\n",
      " 1\n"
     ]
    }
   ],
   "source": [
    "import numpy as np\n",
    "x = np.array([2, -1, -8])\n",
    "y = np.array([3, 1, -2])\n",
    "print(f'x:\\n{x}')\n",
    "print(f'y:\\n{y}')\n",
    "\n",
    "array_shape = x.shape\n",
    "print(\"\\n Array shape x:\\n\", array_shape)\n",
    "print(\"\\n Array Dimensions x:\\n\", x.ndim)\n",
    "\n",
    "print( \"\\n Array Reshape x:\\n\", np.reshape(x, (3, 1)))\n",
    "print( \"\\n Array Reshape y:\\n\", np.reshape(y, (3, 1)))\n",
    "print(\"\\n Array Dimensions y :\\n\", x.ndim)"
   ]
  },
  {
   "cell_type": "markdown",
   "metadata": {},
   "source": []
  }
 ],
 "metadata": {
  "kernelspec": {
   "display_name": "Python 3",
   "language": "python",
   "name": "python3"
  },
  "language_info": {
   "codemirror_mode": {
    "name": "ipython",
    "version": 3
   },
   "file_extension": ".py",
   "mimetype": "text/x-python",
   "name": "python",
   "nbconvert_exporter": "python",
   "pygments_lexer": "ipython3",
   "version": "3.11.7"
  }
 },
 "nbformat": 4,
 "nbformat_minor": 2
}
