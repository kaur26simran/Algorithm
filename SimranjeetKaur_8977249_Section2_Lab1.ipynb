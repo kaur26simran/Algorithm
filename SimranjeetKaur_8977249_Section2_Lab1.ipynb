{
 "cells": [
  {
   "cell_type": "markdown",
   "metadata": {},
   "source": [
    "## Numpy Opreations\n",
    "\n"
   ]
  },
  {
   "cell_type": "markdown",
   "metadata": {},
   "source": [
    "1. Create an array that starts from the integer 1, ends at 20, incremented by 3."
   ]
  },
  {
   "cell_type": "code",
   "execution_count": 63,
   "metadata": {},
   "outputs": [
    {
     "name": "stdout",
     "output_type": "stream",
     "text": [
      "[ 1  4  7 10 13 16 19]\n"
     ]
    }
   ],
   "source": [
    "# Create an array that starts from the integer 1, ends at 20, incremented by 3.\n",
    "import numpy as np\n",
    "c = np.arange(1, 20, 3)\n",
    "print(c)"
   ]
  },
  {
   "cell_type": "markdown",
   "metadata": {},
   "source": [
    " Create a new array of shape 3 with random numbers between 0 and 1."
   ]
  },
  {
   "cell_type": "code",
   "execution_count": 64,
   "metadata": {},
   "outputs": [
    {
     "name": "stdout",
     "output_type": "stream",
     "text": [
      "[0.45389938 0.31616821 0.14569883]\n"
     ]
    }
   ],
   "source": [
    "#Create a new array of shape 3 with random numbers between 0 and 1.\n",
    "import numpy as np\n",
    "randarr = np.random.rand(3)\n",
    "print(randarr)"
   ]
  },
  {
   "cell_type": "markdown",
   "metadata": {},
   "source": [
    " Create a 2 D array [[10,20,45],[30,12,16],[42,17,56]] and perform the following operations:"
   ]
  },
  {
   "cell_type": "markdown",
   "metadata": {},
   "source": [
    "o Slice the 2D array to get the first two rows, slice the 2D array to get the last two rows"
   ]
  },
  {
   "cell_type": "code",
   "execution_count": 65,
   "metadata": {},
   "outputs": [
    {
     "name": "stdout",
     "output_type": "stream",
     "text": [
      "[[10 20 45]\n",
      " [30 12 16]\n",
      " [42 17 56]]\n",
      "\n",
      " [[10 20 45]\n",
      " [30 12 16]]\n",
      "\n",
      " [[30 12 16]\n",
      " [42 17 56]]\n"
     ]
    }
   ],
   "source": [
    "# Create a 2 dimensional array (2-D)\n",
    "import numpy as np\n",
    "twodimarr = np.array([[10, 20, 45], [30, 12, 16], [42, 17, 56]])\n",
    "print(twodimarr)\n",
    "\n",
    "# Slice the twoD array to get the first two rows\n",
    "slicedarr = twodimarr[0:2]\n",
    "print(\"\\n\", slicedarr)\n",
    "\n",
    "# Similarily, slice the twoD array to get the last two rows\n",
    "slicedtwoDrows = twodimarr[1:3]\n",
    "print(\"\\n\", slicedtwoDrows)"
   ]
  },
  {
   "cell_type": "markdown",
   "metadata": {},
   "source": [
    ". Create two 2x2 arrays and demonstrate how you can stack the elements vertically, horizontally, \n",
    "and split the arrays into smaller arrays."
   ]
  },
  {
   "cell_type": "code",
   "execution_count": 66,
   "metadata": {},
   "outputs": [
    {
     "name": "stdout",
     "output_type": "stream",
     "text": [
      "a1:\n",
      "[[10 20 45]\n",
      " [30 12 16]\n",
      " [42 17 56]]\n",
      "a2:\n",
      "[[15 25 45]\n",
      " [35 11 26]\n",
      " [12 27 26]]\n",
      "\n",
      " [[10 20 45]\n",
      " [30 12 16]\n",
      " [42 17 56]\n",
      " [15 25 45]\n",
      " [35 11 26]\n",
      " [12 27 26]]\n",
      "\n",
      " [[10 20 45 15 25 45]\n",
      " [30 12 16 35 11 26]\n",
      " [42 17 56 12 27 26]]\n",
      "\n",
      " [array([[10, 20, 45]]), array([[30, 12, 16]]), array([[42, 17, 56]]), array([], shape=(0, 3), dtype=int32)]\n"
     ]
    }
   ],
   "source": [
    "import numpy as np\n",
    "a1 = np.array([[10, 20, 45], [30, 12, 16], [42, 17, 56]])\n",
    "a2 = np.array([[15, 25, 45], [35, 11, 26], [12, 27, 26]])\n",
    "print(f'a1:\\n{a1}')\n",
    "print(f'a2:\\n{a2}')\n",
    "\n",
    "# Stack the arrays vertically\n",
    "vertstack = np.vstack((a1, a2))\n",
    "print(\"\\n\", vertstack)\n",
    "\n",
    "# Stack the arrays horizontally\n",
    "horzstack = np.hstack((a1, a2))\n",
    "print(\"\\n\", horzstack)\n",
    "\n",
    "# Spilt  the arrays\n",
    "spiltarr = np.array_split(a1, 4)\n",
    "print(\"\\n\", spiltarr)"
   ]
  },
  {
   "cell_type": "markdown",
   "metadata": {},
   "source": [
    ". Create two matrices 𝑋 = ([[5, 7, 2],[4, 5, 6],[7, 4 ,2]]), 𝑌 = ([[4, 2],[6, 2],[4, 2]]),\n",
    "o Is it possible to multiply these matrices?\n",
    "o Demonstrate the case when it is not possible to.\n"
   ]
  },
  {
   "cell_type": "code",
   "execution_count": 67,
   "metadata": {},
   "outputs": [
    {
     "name": "stdout",
     "output_type": "stream",
     "text": [
      "X:\n",
      "[[5 7 2]\n",
      " [4 5 6]\n",
      " [7 4 2]]\n",
      "Y:\n",
      "[[4 2]\n",
      " [6 2]\n",
      " [4 2]]\n",
      "\n",
      " [[70 28]\n",
      " [70 30]\n",
      " [60 26]]\n"
     ]
    }
   ],
   "source": [
    "import numpy as np\n",
    "X = np.array([[5, 7, 2], [4, 5,6], [7, 4, 2]])\n",
    "Y = np.array([[4, 2], [6, 2], [4, 2]])\n",
    "print(f'X:\\n{X}')\n",
    "print(f'Y:\\n{Y}')\n",
    "\n",
    "print(\"\\n\", np.matmul(X,Y))"
   ]
  },
  {
   "cell_type": "markdown",
   "metadata": {},
   "source": [
    "Create two arrays, 𝑥 = ([2, −1, −8]) 𝑦 = ([3, 1, −2]),\n",
    "o Find the Shape, Number of dimensions of vector x.\n",
    "o Reshape the vector x to a matrix of size (3,1) and determine the number of dimensions \n",
    "after reshaping y to a matrix of (3,1).\n"
   ]
  },
  {
   "cell_type": "code",
   "execution_count": 68,
   "metadata": {},
   "outputs": [
    {
     "name": "stdout",
     "output_type": "stream",
     "text": [
      "x:\n",
      "[ 2 -1 -8]\n",
      "y:\n",
      "[ 3  1 -2]\n",
      "\n",
      " Array shape x:\n",
      " (3,)\n",
      "\n",
      " Array Dimensions x:\n",
      " 1\n",
      "\n",
      " Array Reshape x:\n",
      " [[ 2]\n",
      " [-1]\n",
      " [-8]]\n",
      "\n",
      " Array Reshape y:\n",
      " [[ 3]\n",
      " [ 1]\n",
      " [-2]]\n",
      "\n",
      " Array Dimensions y :\n",
      " 1\n"
     ]
    }
   ],
   "source": [
    "import numpy as np\n",
    "x = np.array([2, -1, -8])\n",
    "y = np.array([3, 1, -2])\n",
    "print(f'x:\\n{x}')\n",
    "print(f'y:\\n{y}')\n",
    "\n",
    "array_shape = x.shape\n",
    "print(\"\\n Array shape x:\\n\", array_shape)\n",
    "print(\"\\n Array Dimensions x:\\n\", x.ndim)\n",
    "\n",
    "print( \"\\n Array Reshape x:\\n\", np.reshape(x, (3, 1)))\n",
    "print( \"\\n Array Reshape y:\\n\", np.reshape(y, (3, 1)))\n",
    "print(\"\\n Array Dimensions y :\\n\", x.ndim)"
   ]
  },
  {
   "cell_type": "markdown",
   "metadata": {},
   "source": [
    ". How does broadcasting work? Demonstrate the subtraction, multiplication by considering a 3 x 3 \n",
    "matrix.\n"
   ]
  },
  {
   "cell_type": "code",
   "execution_count": 69,
   "metadata": {},
   "outputs": [
    {
     "name": "stdout",
     "output_type": "stream",
     "text": [
      "Original Matrix:\n",
      "[[1 2 3]\n",
      " [4 5 6]\n",
      " [7 8 9]]\n",
      "\n",
      "Subtracted Matrix:\n",
      "[[-1  0  1]\n",
      " [ 2  3  4]\n",
      " [ 5  6  7]]\n",
      "\n",
      "Multiplied Matrix:\n",
      "[[ 3  6  9]\n",
      " [12 15 18]\n",
      " [21 24 27]]\n"
     ]
    }
   ],
   "source": [
    "# Creating a 3x3 matrix\n",
    "matrix = np.array([[1, 2, 3],\n",
    "                   [4, 5, 6],\n",
    "                   [7, 8, 9]])\n",
    "\n",
    "# Demonstrating broadcasting with subtraction\n",
    "subtracted_matrix = matrix - 2\n",
    "\n",
    "# Demonstrating broadcasting with multiplication\n",
    "multiplied_matrix = matrix * 3\n",
    "\n",
    "# Displaying the original matrix and the results\n",
    "print(\"Original Matrix:\")\n",
    "print(matrix)\n",
    "print(\"\\nSubtracted Matrix:\")\n",
    "print(subtracted_matrix)\n",
    "print(\"\\nMultiplied Matrix:\")\n",
    "print(multiplied_matrix)"
   ]
  },
  {
   "cell_type": "markdown",
   "metadata": {},
   "source": [
    "Part B- Linear Equations"
   ]
  },
  {
   "cell_type": "markdown",
   "metadata": {},
   "source": [
    "Part B.1\n",
    "1. 4x + y - 2z = 10\n",
    "2. 2x - 3y + 2z = -4\n",
    "3. x + 2y + 3z = 6"
   ]
  },
  {
   "cell_type": "code",
   "execution_count": 70,
   "metadata": {},
   "outputs": [
    {
     "name": "stdout",
     "output_type": "stream",
     "text": [
      "Determinant of the coefficient matrix: -70.00000000000003\n",
      "Solution of the system: [ 1.8  2.4 -0.2]\n"
     ]
    }
   ],
   "source": [
    "\n",
    "# Coefficient matrix\n",
    "coeff_matrix = np.array([[4, 1, -2],\n",
    "                        [2, -3, 2],\n",
    "                        [1, 2, 3]])\n",
    "\n",
    "# Right-hand side vector\n",
    "rhs_vector = np.array([10, -4, 6])\n",
    "\n",
    "# Calculate determinant\n",
    "det_coeff_matrix = np.linalg.det(coeff_matrix)\n",
    "\n",
    "print(\"Determinant of the coefficient matrix:\", det_coeff_matrix)\n",
    "\n",
    "if det_coeff_matrix != 0:\n",
    "    # Non-singular system, unique solution exists\n",
    "    solution = np.linalg.solve(coeff_matrix, rhs_vector)\n",
    "    print(\"Solution of the system:\", solution)\n",
    "else:\n",
    "    print(\"The system is singular, and the solution may not exist or may have infinitely many solutions.\")"
   ]
  },
  {
   "cell_type": "markdown",
   "metadata": {},
   "source": []
  },
  {
   "cell_type": "markdown",
   "metadata": {},
   "source": [
    "Part B.2\n"
   ]
  },
  {
   "cell_type": "markdown",
   "metadata": {},
   "source": [
    "1. 2x - y + 3z + 4w = 10\n",
    "2. 4x - 2y + 6z + 8w = 20\n",
    "3. 3x + y - 2z + 2w = 3\n",
    "4. x + 3y - 4z + w = -1"
   ]
  },
  {
   "cell_type": "code",
   "execution_count": 71,
   "metadata": {},
   "outputs": [
    {
     "name": "stdout",
     "output_type": "stream",
     "text": [
      "The system is singular. It may have infinitely many solutions or no solution.\n"
     ]
    }
   ],
   "source": [
    "import numpy as np\n",
    "\n",
    "# Coefficients matrix\n",
    "coefficients_matrix_b2 = np.array([\n",
    "    [2, -1, 3, 4],\n",
    "    [4, -2, 6, 8],\n",
    "    [3, 1, -2, 2],\n",
    "    [1, 3, -4, 1]\n",
    "])\n",
    "\n",
    "# Constants vector\n",
    "constants_vector_b2 = np.array([10, 20, 3, -1])\n",
    "\n",
    "try:\n",
    "    # Attempt to solve the system\n",
    "    solution_b2 = np.linalg.solve(coefficients_matrix_b2, constants_vector_b2)\n",
    "    print(\"Unique solution exists:\")\n",
    "    print(\"x =\", solution_b2[0])\n",
    "    print(\"y =\", solution_b2[1])\n",
    "    print(\"z =\", solution_b2[2])\n",
    "    print(\"w =\", solution_b2[3])\n",
    "\n",
    "except np.linalg.LinAlgError:\n",
    "    print(\"The system is singular. It may have infinitely many solutions or no solution.\")"
   ]
  }
 ],
 "metadata": {
  "kernelspec": {
   "display_name": "Python 3",
   "language": "python",
   "name": "python3"
  },
  "language_info": {
   "codemirror_mode": {
    "name": "ipython",
    "version": 3
   },
   "file_extension": ".py",
   "mimetype": "text/x-python",
   "name": "python",
   "nbconvert_exporter": "python",
   "pygments_lexer": "ipython3",
   "version": "3.11.7"
  }
 },
 "nbformat": 4,
 "nbformat_minor": 2
}
